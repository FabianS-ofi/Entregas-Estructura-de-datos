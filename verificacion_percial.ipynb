{
  "cells": [
    {
      "cell_type": "code",
      "execution_count": 2,
      "metadata": {
        "colab": {
          "base_uri": "https://localhost:8080/",
          "height": 111
        },
        "id": "W5GN2HSGz1w8",
        "outputId": "0c22df55-d3c4-48d6-8662-88e0523e70bf"
      },
      "outputs": [
        {
          "output_type": "error",
          "ename": "IndentationError",
          "evalue": "expected an indented block after 'for' statement on line 24 (ipython-input-1713410161.py, line 25)",
          "traceback": [
            "\u001b[0;36m  File \u001b[0;32m\"/tmp/ipython-input-1713410161.py\"\u001b[0;36m, line \u001b[0;32m25\u001b[0m\n\u001b[0;31m    elif opcion == \"4\":\u001b[0m\n\u001b[0m    ^\u001b[0m\n\u001b[0;31mIndentationError\u001b[0m\u001b[0;31m:\u001b[0m expected an indented block after 'for' statement on line 24\n"
          ]
        }
      ],
      "source": [
        "carrito = []  # Se crea una lista vacía llamada 'carrito' para almacenar los productos que el usuario agregue\n",
        "\n",
        "while True:  # Bucle infinito para mostrar continuamente el menú hasta que el usuario decida salir\n",
        "  print(\"menu carrito de compras\")  # Muestra el título del menú\n",
        "  print(\"1. Agregar producto\")       # Opción 1: agregar producto al carrito\n",
        "  print(\"2. eliminar producto\")      # Opción 2: eliminar producto del carrito\n",
        "  print(\"3. ver carrito\")            # Opción 3: mostrar todos los productos del carrito\n",
        "  print(\"4. salir\")                  # Opción 4: salir del programa\n",
        "\n",
        "  opcion = input(\"Elija una opcion (1-4)\")  # Solicita al usuario que ingrese una opción del menú\n",
        "  if opcion == \"1\":  # Si el usuario elige la opción 1\n",
        "    producto = input(\"producto a agregar:\")  # Pide el nombre del producto a agregar\n",
        "    print(f\"{producto} ha sido agregado al carrito\")  # Muestra mensaje de confirmación\n",
        "  elif opcion == \"2\":  # Si el usuario elige la opción 2\n",
        "    producto = input(\"eliminar un producto:\")  # Pide el nombre del producto a eliminar\n",
        "    if producto in carrito:  # Verifica si el producto está en el carrito\n",
        "      carrito.remove(producto)  # Lo elimina de la lista\n",
        "      print(f\"{producto} eliminado\")  # Mensaje de confirmación\n",
        "    else:\n",
        "      print(f\"{producto} no esta\")  # Mensaje si el producto no se encuentra en el carrito\n",
        "  elif opcion == \"3\":  # Si el usuario elige la opción 3\n",
        "    if carrito:  # Verifica si hay productos en el carrito\n",
        "      print(\"carrito de compras\")  # Muestra encabezado del carrito\n",
        "      for i , item in enumerate(carrito, 1):  # Recorre la lista de productos (enumerando desde 1)\n",
        "        pass  # Aquí debería ir la lógica para mostrar cada producto, pero está vacío\n",
        "  elif opcion == \"4\":  # Si el usuario elige la opción 4\n",
        "        print(\"Saliendo del programa...\")  # Mensaje de salida\n",
        "        break  # Sale del bucle infinito y termina el programa\n"
      ]
    },
    {
      "cell_type": "markdown",
      "metadata": {
        "id": "OXdH2Axa35HC"
      },
      "source": [
        "CORRECCION 1\n"
      ]
    },
    {
      "cell_type": "code",
      "execution_count": 1,
      "metadata": {
        "id": "P5J1zw7C37Di",
        "colab": {
          "base_uri": "https://localhost:8080/"
        },
        "outputId": "f67f3e59-98dd-47e1-b7a0-30d241548624"
      },
      "outputs": [
        {
          "output_type": "stream",
          "name": "stdout",
          "text": [
            "menu carrito de compras\n",
            "1. Agregar producto\n",
            "2. eliminar producto\n",
            "3. ver carrito\n",
            "4. salir\n",
            "Elija una opcion (1-4): 4\n",
            "Saliendo del programa...\n"
          ]
        }
      ],
      "source": [
        "carrito = []  # Se crea una lista vacía llamada 'carrito' para almacenar los productos que agregue el usuario\n",
        "\n",
        "while True:  # Bucle infinito para mostrar continuamente el menú hasta que el usuario decida salir\n",
        "    print(\"menu carrito de compras\")  # Muestra el título del menú\n",
        "    print(\"1. Agregar producto\")       # Opción 1: permite agregar un producto al carrito\n",
        "    print(\"2. eliminar producto\")      # Opción 2: permite eliminar un producto del carrito\n",
        "    print(\"3. ver carrito\")            # Opción 3: muestra todos los productos en el carrito\n",
        "    print(\"4. salir\")                  # Opción 4: salir del programa\n",
        "\n",
        "    opcion = input(\"Elija una opcion (1-4): \")  # Solicita al usuario ingresar una opción\n",
        "    if opcion == \"1\":  # Si elige la opción 1\n",
        "        producto = input(\"producto a agregar: \")  # Solicita el nombre del producto a agregar\n",
        "        carrito.append(producto)  # Agrega el producto a la lista 'carrito'\n",
        "        print(f\"{producto} ha sido agregado al carrito\")  # Confirma al usuario que el producto se agregó\n",
        "    elif opcion == \"2\":  # Si elige la opción 2\n",
        "        producto = input(\"eliminar un producto: \")  # Solicita el nombre del producto a eliminar\n",
        "        if producto in carrito:  # Verifica si el producto existe en el carrito\n",
        "            carrito.remove(producto)  # Elimina el producto de la lista\n",
        "            print(f\"{producto} eliminado\")  # Confirma que el producto fue eliminado\n",
        "        else:\n",
        "            print(f\"{producto} no esta en el carrito\")  # Indica que el producto no se encontró en el carrito\n",
        "    elif opcion == \"3\":  # Si elige la opción 3\n",
        "        if carrito:  # Verifica si el carrito tiene productos\n",
        "            print(\"carrito de compras:\")  # Muestra encabezado del carrito\n",
        "            for i, item in enumerate(carrito, 1):  # Recorre la lista de productos enumerándolos desde 1\n",
        "                print(f\"{i}. {item}\")  # Muestra cada producto con su número correspondiente\n",
        "        else:\n",
        "            print(\"El carrito está vacío\")  # Mensaje si no hay productos en el carrito\n",
        "    elif opcion == \"4\":  # Si elige la opción 4\n",
        "        print(\"Saliendo del programa...\")  # Muestra mensaje de salida\n",
        "        break  # Sale del bucle y termina el programa\n",
        "    else:  # Si ingresa una opción que no sea 1-4\n",
        "        print(\"Opción inválida, intente de nuevo\")  # Mensaje de error y vuelve a mostrar el menú\n",
        "\n"
      ]
    },
    {
      "cell_type": "markdown",
      "metadata": {
        "id": "7qbxi4604UT_"
      },
      "source": [
        "PUNTO 2"
      ]
    },
    {
      "cell_type": "code",
      "execution_count": null,
      "metadata": {
        "id": "YIMy-NOu1u_u"
      },
      "outputs": [],
      "source": [
        "#roles permitidos\n",
        "roles = [\"admin\",\"editor\",\"visitante\"]  # Lista de roles válidos que un usuario puede tener\n",
        "\n",
        "usuarios_registrados = []  # Lista vacía donde se guardarán los usuarios registrados como tuplas (nombre, rol)\n",
        "\n",
        "print(\"Registro de usuarios\")  # Mensaje inicial que indica el inicio del registro de usuarios\n",
        "\n",
        "while True:  # Bucle infinito para permitir registrar múltiples usuarios hasta que se decida detener\n",
        "    nombre = input(\"Nombre: \").strip()  # Solicita el nombre del usuario y elimina espacios al inicio y final\n",
        "    if nombre == \"\":  # Si el usuario no ingresa ningún nombre\n",
        "        break  # Sale del bucle, terminando el registro\n",
        "    rol = input(\"Rol (admin,editor,visitante): \")  # Solicita al usuario ingresar un rol\n",
        "    if rol in roles:  # Verifica si el rol ingresado está dentro de la lista de roles permitidos\n",
        "        usuarios_registrados.append((nombre,rol))  # Agrega una tupla (nombre, rol) a la lista de usuarios registrados\n",
        "        print(f\"Usuario {nombre} registrado con rol {rol}\")  # Confirma que el usuario fue registrado correctamente\n",
        "    else:  # Si el rol no es válido\n",
        "        print(\"Rol invalido\")  # Muestra un mensaje de error indicando que el rol ingresado no es permitido\n",
        "\n",
        "print(\"\\nUsuarios registrados:\")  # Mensaje que indica que a continuación se listarán los usuarios registrados\n",
        "for u in usuarios_registrados:  # Recorre la lista de usuarios registrados\n",
        "    print(u)  # Imprime cada usuario como tupla (nombre, rol)\n"
      ]
    },
    {
      "cell_type": "markdown",
      "metadata": {
        "id": "sRqQ_kwC30Py"
      },
      "source": [
        "CORRECCION 2"
      ]
    },
    {
      "cell_type": "code",
      "execution_count": null,
      "metadata": {
        "id": "jusBBOK83HG9"
      },
      "outputs": [],
      "source": [
        "# Roles permitidos\n",
        "roles = [\"admin\", \"editor\", \"visitante\"]  # Lista de roles válidos que se pueden asignar a un usuario\n",
        "\n",
        "usuarios_registrados = []  # Lista vacía donde se guardarán los usuarios registrados como tuplas (nombre, rol)\n",
        "\n",
        "print(\"Registro de usuarios\")  # Mensaje inicial indicando que comienza el registro de usuarios\n",
        "\n",
        "while True:  # Bucle infinito para permitir registrar varios usuarios hasta que se decida salir\n",
        "    nombre = input(\"Nombre: \").strip()  # Solicita el nombre del usuario y elimina espacios al inicio y final\n",
        "    if nombre == \"\":  # Si no se ingresa ningún nombre\n",
        "        break  # Sale del bucle, terminando el registro de usuarios\n",
        "    rol = input(\"Rol (admin, editor, visitante): \").strip().lower()\n",
        "    # Solicita el rol del usuario, elimina espacios y lo convierte a minúsculas para validar correctamente\n",
        "    if rol in roles:  # Verifica si el rol ingresado está en la lista de roles permitidos\n",
        "        usuarios_registrados.append((nombre, rol))  # Agrega la tupla (nombre, rol) a la lista de usuarios registrados\n",
        "        print(f\"Usuario '{nombre}' registrado con rol '{rol}'\")  # Confirma el registro exitoso\n",
        "    else:  # Si el rol no es válido\n",
        "        print(\"Rol inválido, intente de nuevo\")  # Muestra mensaje de error y permite reingresar el rol\n",
        "\n",
        "print(\"\\nUsuarios registrados:\")  # Mensaje que indica que se listarán los usuarios registrados\n",
        "if usuarios_registrados:  # Verifica si hay usuarios registrados\n",
        "    for u in usuarios_registrados:  # Recorre la lista de usuarios\n",
        "        print(f\"Nombre: {u[0]}, Rol: {u[1]}\")  # Imprime cada usuario de manera legible\n"
      ]
    },
    {
      "cell_type": "markdown",
      "metadata": {
        "id": "5dnXMOAq4cKx"
      },
      "source": [
        "PUNTO3"
      ]
    },
    {
      "cell_type": "code",
      "execution_count": null,
      "metadata": {
        "id": "zAjRzeiR5V9a"
      },
      "outputs": [],
      "source": [
        "contactos = {\n",
        "    \"camilo\":\"312 308 9471\",\n",
        "    \"jeferson\":\"302 422 7417\",\n",
        "    \"gustavo\":\"3122333695\"\n",
        "}\n",
        "# Diccionario llamado 'contactos' que almacena nombres como claves y números de teléfono como valores\n",
        "\n",
        "buscar_contacto = input(\"Escriba el contacto a buscar\").lower()\n",
        "# Solicita al usuario escribir el nombre del contacto a buscar y lo convierte a minúsculas\n",
        "\n",
        "if buscar_contacto in contactos:\n",
        "    # Verifica si el nombre ingresado está en el diccionario 'contactos'\n",
        "    print(f\"El contacto a buscar es {buscar_contacto} su numero telefonico es {contactos[buscar_contacto]}\")\n",
        "    # Muestra el nombre y número del contacto encontrado\n",
        "else:\n",
        "    print(f\"No existe el contacto {buscar_contacto}\")\n",
        "    # Muestra un mensaje si el contacto no se encuentra en la lista\n",
        "\n",
        "contactos[\"nombre\"] = input(\"ingrese el nombre\")  # Solicita un nuevo nombre y lo agrega al diccionario con clave \"nombre\"\n",
        "contactos[\"telefono\"] = int(input(\"ingrese el numero\"))\n",
        "# Solicita un número de teléfono, lo convierte a entero y lo agrega al diccionario con clave \"telefono\"\n",
        "\n",
        "print(contactos.get)\n",
        "# Muestra la referencia al método 'get' del diccionario (no imprime el contenido, solo la función)\n"
      ]
    },
    {
      "cell_type": "markdown",
      "metadata": {
        "id": "G4VlaWh05wW0"
      },
      "source": [
        "correccion3"
      ]
    },
    {
      "cell_type": "code",
      "execution_count": null,
      "metadata": {
        "id": "xkRIfw3E5vcf"
      },
      "outputs": [],
      "source": [
        "contactos = {\n",
        "    \"Camilo\": \"312 308 9471\",\n",
        "    \"Jeferson\": \"302 422 7417\",\n",
        "    \"Gustavo\": \"3122333695\"\n",
        "}\n",
        "# Diccionario 'contactos' que almacena nombres como claves y números de teléfono como valores\n",
        "\n",
        "buscar_contacto = input(\"Escriba el contacto a buscar: \").capitalize()\n",
        "# Solicita al usuario el nombre del contacto a buscar y convierte la primera letra en mayúscula para coincidir con las claves\n",
        "\n",
        "if buscar_contacto in contactos:\n",
        "    # Verifica si el contacto ingresado existe en el diccionario\n",
        "    print(f\"El contacto a buscar es {buscar_contacto}, su número telefónico es {contactos[buscar_contacto]}\")\n",
        "    # Muestra el nombre y número del contacto encontrado\n",
        "else:\n",
        "    print(f\"No existe el contacto {buscar_contacto}\")\n",
        "    # Mensaje si el contacto no se encuentra\n",
        "\n",
        "# Agregar nuevo contacto\n",
        "nombre = input(\"Ingrese el nombre del nuevo contacto: \").capitalize()\n",
        "# Solicita el nombre del nuevo contacto y lo formatea con la primera letra en mayúscula\n",
        "telefono = input(\"Ingrese el número: \")\n",
        "# Solicita el número de teléfono del nuevo contacto\n",
        "contactos[nombre] = telefono\n",
        "# Agrega el nuevo contacto al diccionario con el nombre como clave y el número como valor\n",
        "\n",
        "print(\"\\nLista de contactos actualizada:\")\n",
        "# Muestra un mensaje indicando que se listarán todos los contactos\n",
        "for nombre, telefono in contactos.items():\n",
        "    # Recorre el diccionario 'contactos' obteniendo nombre y teléfono de cada entrada\n",
        "    print(f\"{nombre}: {telefono}\")\n",
        "    # Imprime cada contacto en formato legible: Nombre: Teléfono\n"
      ]
    },
    {
      "cell_type": "markdown",
      "metadata": {
        "id": "EScNUrKQ6HaK"
      },
      "source": [
        "PUNTO4"
      ]
    },
    {
      "cell_type": "code",
      "execution_count": null,
      "metadata": {
        "id": "BlDtb0pl6JXl"
      },
      "outputs": [],
      "source": [
        "colores = {\"rojo\":0,\n",
        "           \"azul\":0,\n",
        "           \"verde\":0 }\n",
        "# Diccionario 'colores' donde cada clave es un color y el valor inicial es 0, para contar votos\n",
        "\n",
        "print(\"vota tu color favorito\")\n",
        "# Mensaje inicial invitando al usuario a votar\n",
        "\n",
        "while True:  # Bucle infinito para permitir múltiples votos hasta que se cumpla una condición de salida\n",
        "    voto = input(\"voto\").strip().lower()\n",
        "    # Solicita el voto del usuario, elimina espacios al inicio y final y convierte a minúsculas\n",
        "    if voto == \"salir\" or voto == \"\":\n",
        "        # Condición para salir del bucle: si el usuario escribe \"salir\" o deja vacío el input\n",
        "        if voto in colores:  # Esta línea intenta contar el voto, pero nunca se cumple porque 'voto' es \"salir\" o \"\" aquí\n",
        "            colores[voto] += 1\n",
        "            print(\"voto contado para\", voto)\n",
        "    else:\n",
        "        print(\"opcion invalida\")\n",
        "        # Si el usuario escribe cualquier otra cosa, muestra que la opción es inválida\n",
        "\n",
        "print(\"\\nResultados\")\n",
        "# Muestra un mensaje indicando que se mostrarán los resultados finales\n",
        "\n",
        "for color, votos in colores.items():\n",
        "    # Recorre el diccionario 'colores' obteniendo cada color y la cantidad de votos\n",
        "    print(color, \"=\", votos)\n",
        "    # Imprime el color y la cantidad de votos\n"
      ]
    },
    {
      "cell_type": "markdown",
      "metadata": {
        "id": "WqTd_NUE6Ksh"
      },
      "source": [
        "CORRECCION4"
      ]
    },
    {
      "cell_type": "code",
      "execution_count": null,
      "metadata": {
        "id": "FoVDEGGF6NAA"
      },
      "outputs": [],
      "source": [
        "colores = {\n",
        "    \"rojo\": 0,\n",
        "    \"azul\": 0,\n",
        "    \"verde\": 0\n",
        "}\n",
        "# Diccionario 'colores' donde cada clave es un color y el valor inicial es 0, para contar los votos\n",
        "\n",
        "print(\"Vota tu color favorito (escribe 'salir' para terminar)\")\n",
        "# Mensaje inicial indicando al usuario que puede votar por su color favorito y cómo terminar\n",
        "\n",
        "while True:  # Bucle infinito para permitir múltiples votos hasta que se cumpla la condición de salida\n",
        "    voto = input(\"Voto: \").strip().lower()\n",
        "    # Solicita el voto del usuario, elimina espacios al inicio y final, y convierte a minúsculas\n",
        "\n",
        "    if voto == \"salir\" or voto == \"\":\n",
        "        break\n",
        "        # Si el usuario escribe \"salir\" o deja el input vacío, se termina el bucle\n",
        "    elif voto in colores:\n",
        "        colores[voto] += 1\n",
        "        # Si el voto coincide con un color válido, se incrementa el contador correspondiente\n",
        "        print(\"Voto contado para\", voto)\n",
        "        # Mensaje de confirmación de que el voto fue registrado\n",
        "    else:\n",
        "        print(\"Opción inválida\")\n",
        "        # Mensaje si el voto no corresponde a ninguno de los colores disponibles\n",
        "\n",
        "print(\"\\nResultados:\")\n",
        "# Mensaje indicando que se mostrarán los resultados finales\n",
        "\n",
        "for color, votos in colores.items():\n",
        "    # Recorre el diccionario 'colores', obteniendo cada color y su número de votos\n",
        "    print(color, \"=\", votos)\n",
        "    # Imprime el color y la cantidad de votos acumulados\n"
      ]
    }
  ],
  "metadata": {
    "colab": {
      "provenance": []
    },
    "kernelspec": {
      "display_name": "Python 3",
      "name": "python3"
    },
    "language_info": {
      "name": "python"
    }
  },
  "nbformat": 4,
  "nbformat_minor": 0
}