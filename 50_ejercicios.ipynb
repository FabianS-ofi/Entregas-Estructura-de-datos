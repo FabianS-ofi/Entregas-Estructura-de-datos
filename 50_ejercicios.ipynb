{
  "nbformat": 4,
  "nbformat_minor": 0,
  "metadata": {
    "colab": {
      "provenance": []
    },
    "kernelspec": {
      "name": "python3",
      "display_name": "Python 3"
    },
    "language_info": {
      "name": "python"
    }
  },
  "cells": [
    {
      "cell_type": "code",
      "execution_count": 76,
      "metadata": {
        "colab": {
          "base_uri": "https://localhost:8080/"
        },
        "id": "7koR0oSasy-b",
        "outputId": "22b41843-a3b3-468b-d32f-2a2010fa0f0a"
      },
      "outputs": [
        {
          "output_type": "stream",
          "name": "stdout",
          "text": [
            "True\n",
            "False\n"
          ]
        }
      ],
      "source": [
        "# ============================================================\n",
        "# Ejercicio 1: Balanceo de paréntesis\n",
        "# Enunciado: Verificar si una expresión con paréntesis, corchetes y llaves\n",
        "# está correctamente balanceada usando una pila.\n",
        "# ============================================================\n",
        "\n",
        "def balanceo_parentesis(expresion):  # Definimos la función con parámetro 'expresion'\n",
        "    pila = []  # Usaremos una lista como pila para almacenar símbolos\n",
        "    parejas = {')': '(', ']': '[', '}': '{'}  # Diccionario con los pares de apertura/cierre\n",
        "    for c in expresion:  # Recorremos cada carácter de la expresión\n",
        "        if c in '([{':  # Si es símbolo de apertura\n",
        "            pila.append(c)  # Lo añadimos a la pila\n",
        "        elif c in ')]}':  # Si es símbolo de cierre\n",
        "            if not pila or pila[-1] != parejas[c]:  # Si la pila está vacía o no coincide con el último abierto\n",
        "                return False  # La expresión está mal balanceada\n",
        "            pila.pop()  # Eliminamos el símbolo de apertura correspondiente\n",
        "    return len(pila) == 0  # Si la pila queda vacía, está bien balanceada\n",
        "\n",
        "print(balanceo_parentesis(\"({[]})\"))  # Devuelve True\n",
        "print(balanceo_parentesis(\"({[})\"))   # Devuelve False"
      ]
    },
    {
      "cell_type": "code",
      "source": [
        "# ============================================================\n",
        "# Ejercicio 2: Conversión de infijo a postfijo\n",
        "# Enunciado: Convertir expresión matemática en notación infija a postfija usando pila.\n",
        "# ============================================================\n",
        "\n",
        "def infijo_a_postfijo(expresion):  # Función que recibe la expresión en formato string\n",
        "    precedencia = {'+':1,'-':1,'*':2,'/':2,'^':3}  # Diccionario con precedencia de operadores\n",
        "    pila = []  # Pila de operadores\n",
        "    salida = []  # Lista de salida\n",
        "    for token in expresion.split():  # Iteramos por cada token (separados por espacio)\n",
        "        if token.isalnum():  # Si es operando (número/letra)\n",
        "            salida.append(token)  # Lo añadimos directo a la salida\n",
        "        elif token == '(':  # Si es paréntesis de apertura\n",
        "            pila.append(token)  # Lo metemos en la pila\n",
        "        elif token == ')':  # Si es paréntesis de cierre\n",
        "            while pila and pila[-1] != '(':  # Mientras no encontremos '('\n",
        "                salida.append(pila.pop())  # Pasamos operadores a la salida\n",
        "            pila.pop()  # Quitamos el '('\n",
        "        else:  # Si es operador\n",
        "            while pila and pila[-1] != '(' and precedencia.get(token,0) <= precedencia.get(pila[-1],0):\n",
        "                salida.append(pila.pop())  # Sacamos operadores de mayor/igual precedencia\n",
        "            pila.append(token)  # Ponemos el actual en la pila\n",
        "    while pila:  # Vaciamos pila al final\n",
        "        salida.append(pila.pop())\n",
        "    return ' '.join(salida)  # Retornamos como string separado por espacios\n",
        "\n",
        "print(infijo_a_postfijo(\"( A + B ) * C\"))  # Devuelve \"A B + C *\""
      ],
      "metadata": {
        "colab": {
          "base_uri": "https://localhost:8080/"
        },
        "id": "xLlY2AROtcXK",
        "outputId": "a63f26e9-16b0-4264-d394-4b952f04b104"
      },
      "execution_count": 77,
      "outputs": [
        {
          "output_type": "stream",
          "name": "stdout",
          "text": [
            "A B + C *\n"
          ]
        }
      ]
    },
    {
      "cell_type": "code",
      "source": [
        "# ============================================================\n",
        "# Ejercicio 3: Evaluar expresión postfija\n",
        "# Enunciado: Evaluar una expresión aritmética en notación postfija usando pila.\n",
        "# ============================================================\n",
        "\n",
        "def evaluar_postfijo(expresion):  # Función que recibe expresión postfija\n",
        "    pila = []  # Pila de operandos\n",
        "    for token in expresion.split():  # Recorremos cada elemento\n",
        "        if token.replace('.','',1).isdigit():  # Si es número (entero o decimal)\n",
        "            pila.append(float(token) if '.' in token else int(token))  # Convertimos y agregamos\n",
        "        else:  # Si es operador\n",
        "            b = pila.pop()  # Extraemos segundo operando\n",
        "            a = pila.pop()  # Extraemos primer operando\n",
        "            if token=='+': pila.append(a+b)  # Suma\n",
        "            elif token=='-': pila.append(a-b)  # Resta\n",
        "            elif token=='*': pila.append(a*b)  # Multiplicación\n",
        "            elif token=='/': pila.append(a/b)  # División\n",
        "    return pila[0]  # Al final, queda el resultado en la pila\n",
        "\n",
        "print(evaluar_postfijo(\"3 4 + 2 *\"))  # Devuelve 14"
      ],
      "metadata": {
        "colab": {
          "base_uri": "https://localhost:8080/"
        },
        "id": "SRvUhGqKtfBa",
        "outputId": "414870f7-3072-433e-9ecf-1d497b595137"
      },
      "execution_count": 78,
      "outputs": [
        {
          "output_type": "stream",
          "name": "stdout",
          "text": [
            "14\n"
          ]
        }
      ]
    },
    {
      "cell_type": "code",
      "source": [
        "# ============================================================\n",
        "# Ejercicio 4: Invertir lista con pila\n",
        "# Enunciado: Usar una pila para invertir el orden de una lista.\n",
        "# ============================================================\n",
        "\n",
        "def invertir_lista_pila(lista):  # Función que recibe lista\n",
        "    pila = []  # Pila temporal\n",
        "    for e in lista: pila.append(e)  # Apilamos todos los elementos\n",
        "    lista_inv = []  # Lista resultado\n",
        "    while pila: lista_inv.append(pila.pop())  # Desapilamos para invertir orden\n",
        "    return lista_inv\n",
        "\n",
        "print(invertir_lista_pila([1,2,3,4,5]))  # Devuelve [5,4,3,2,1]"
      ],
      "metadata": {
        "colab": {
          "base_uri": "https://localhost:8080/"
        },
        "id": "mY4qCv44tg6q",
        "outputId": "b1040cfb-f730-497b-ff43-adc13a74ce6f"
      },
      "execution_count": 79,
      "outputs": [
        {
          "output_type": "stream",
          "name": "stdout",
          "text": [
            "[5, 4, 3, 2, 1]\n"
          ]
        }
      ]
    },
    {
      "cell_type": "code",
      "source": [
        "# ============================================================\n",
        "# Ejercicio 5: Eliminar duplicados consecutivos\n",
        "# Enunciado: Dada una lista, eliminar duplicados consecutivos.\n",
        "# ============================================================\n",
        "\n",
        "def eliminar_consecutivos_duplicados(lista):  # Función que recibe lista\n",
        "    pila = []  # Pila resultado\n",
        "    for e in lista:  # Iteramos elementos\n",
        "        if not pila or pila[-1] != e:  # Si la pila está vacía o el último no es igual\n",
        "            pila.append(e)  # Lo agregamos\n",
        "    return pila  # Retornamos lista sin duplicados consecutivos\n",
        "\n",
        "print(eliminar_consecutivos_duplicados([1,2,2,3,4,4,4,5]))  # Devuelve [1,2,3,4,5]"
      ],
      "metadata": {
        "colab": {
          "base_uri": "https://localhost:8080/"
        },
        "id": "ztGJlI5Gti7C",
        "outputId": "18abb7d3-4908-47d4-dad6-610e0cb28c67"
      },
      "execution_count": 80,
      "outputs": [
        {
          "output_type": "stream",
          "name": "stdout",
          "text": [
            "[1, 2, 3, 4, 5]\n"
          ]
        }
      ]
    },
    {
      "cell_type": "code",
      "source": [
        "# ============================================================\n",
        "# Ejercicio 6: Siguiente elemento mayor\n",
        "# Enunciado: Para cada elemento, encontrar el siguiente mayor a su derecha.\n",
        "# ============================================================\n",
        "\n",
        "def siguiente_elemento_mayor(lista):\n",
        "    pila = []  # Guardaremos índices pendientes\n",
        "    resultado = [-1]*len(lista)  # Inicializamos con -1\n",
        "    for i, val in enumerate(lista):  # Recorremos lista con índice\n",
        "        while pila and lista[pila[-1]] < val:  # Mientras haya un menor pendiente\n",
        "            idx = pila.pop()  # Sacamos índice\n",
        "            resultado[idx] = val  # Ese valor es el siguiente mayor\n",
        "        pila.append(i)  # Guardamos el índice actual en pila\n",
        "    return resultado\n",
        "\n",
        "print(siguiente_elemento_mayor([4,5,2,10]))  # Devuelve [5,10,10,-1]"
      ],
      "metadata": {
        "colab": {
          "base_uri": "https://localhost:8080/"
        },
        "id": "V9jfU0A7tkhC",
        "outputId": "1f00f134-cbce-44f2-a486-7debeed7cec4"
      },
      "execution_count": 81,
      "outputs": [
        {
          "output_type": "stream",
          "name": "stdout",
          "text": [
            "[5, 10, 10, -1]\n"
          ]
        }
      ]
    },
    {
      "cell_type": "code",
      "source": [
        "# ============================================================\n",
        "# Ejercicio 7: Validar secuencia push/pop\n",
        "# Enunciado: Comprobar si una secuencia de pops es posible con una pila.\n",
        "# ============================================================\n",
        "\n",
        "def validar_secuencia_push_pop(push_seq, pop_seq):\n",
        "    pila = []  # Pila simulada\n",
        "    i = 0  # Índice para pop_seq\n",
        "    for num in push_seq:  # Recorremos secuencia de pushes\n",
        "        pila.append(num)  # Apilamos\n",
        "        while pila and i < len(pop_seq) and pila[-1] == pop_seq[i]:\n",
        "            pila.pop()  # Coincide con esperado, desapilamos\n",
        "            i += 1  # Avanzamos en pop_seq\n",
        "    return i == len(pop_seq)  # Si completamos todos los pops, es válida\n",
        "\n",
        "print(validar_secuencia_push_pop([1,2,3,4,5],[4,5,3,2,1]))  # True"
      ],
      "metadata": {
        "colab": {
          "base_uri": "https://localhost:8080/"
        },
        "id": "d5PV9pU6tmJL",
        "outputId": "e0db8987-b3ec-4358-f00e-cff23adbfaba"
      },
      "execution_count": 82,
      "outputs": [
        {
          "output_type": "stream",
          "name": "stdout",
          "text": [
            "True\n"
          ]
        }
      ]
    },
    {
      "cell_type": "code",
      "source": [
        "# ============================================================\n",
        "# Ejercicio 8: Pila con mínimo O(1)\n",
        "# Enunciado: Implementar pila que devuelva el mínimo actual en O(1).\n",
        "# ============================================================\n",
        "\n",
        "class PilaConMinimo:\n",
        "    def __init__(self):\n",
        "        self.p = []  # Pila normal\n",
        "        self.min_p = []  # Pila auxiliar para mínimos\n",
        "    def push(self,v):\n",
        "        self.p.append(v)  # Apilamos valor\n",
        "        if not self.min_p or v <= self.min_p[-1]:  # Si es nuevo mínimo\n",
        "            self.min_p.append(v)  # Lo guardamos en min_p\n",
        "    def pop(self):\n",
        "        if not self.p: return None  # Si está vacía\n",
        "        v = self.p.pop()  # Sacamos tope\n",
        "        if v == self.min_p[-1]: self.min_p.pop()  # Si era el mínimo, lo quitamos de min_p\n",
        "        return v\n",
        "    def get_min(self):\n",
        "        return self.min_p[-1] if self.min_p else None  # Retornamos mínimo actual\n",
        "\n",
        "p = PilaConMinimo()\n",
        "p.push(3); p.push(1); p.push(2)\n",
        "print(p.get_min())  # Devuelve 1"
      ],
      "metadata": {
        "colab": {
          "base_uri": "https://localhost:8080/"
        },
        "id": "yq6j1MrltoHK",
        "outputId": "e50ad5c1-94e3-4f41-aae4-f5d7495d540c"
      },
      "execution_count": 83,
      "outputs": [
        {
          "output_type": "stream",
          "name": "stdout",
          "text": [
            "1\n"
          ]
        }
      ]
    },
    {
      "cell_type": "code",
      "source": [
        "# ============================================================\n",
        "# Ejercicio 9: Dos pilas en un arreglo\n",
        "# Enunciado: Implementar dos pilas en un mismo arreglo fijo.\n",
        "# ============================================================\n",
        "\n",
        "class DosPilas:\n",
        "    def __init__(self,cap):\n",
        "        self.cap=cap  # Capacidad total\n",
        "        self.arr=[None]*cap  # Arreglo base\n",
        "        self.top1=-1  # Tope pila1\n",
        "        self.top2=cap  # Tope pila2\n",
        "    def push1(self,v):\n",
        "        if self.top1 < self.top2 -1:  # Si hay espacio\n",
        "            self.top1 +=1\n",
        "            self.arr[self.top1]=v\n",
        "    def push2(self,v):\n",
        "        if self.top1 < self.top2 -1:\n",
        "            self.top2 -=1\n",
        "            self.arr[self.top2]=v\n",
        "    def pop1(self):\n",
        "        if self.top1>=0:\n",
        "            v=self.arr[self.top1]\n",
        "            self.top1-=1\n",
        "            return v\n",
        "    def pop2(self):\n",
        "        if self.top2 < self.cap:\n",
        "            v=self.arr[self.top2]\n",
        "            self.top2+=1\n",
        "            return v\n",
        "\n",
        "dp = DosPilas(5)\n",
        "dp.push1(1); dp.push2(2)\n",
        "print(dp.pop1())  # Devuelve 1"
      ],
      "metadata": {
        "colab": {
          "base_uri": "https://localhost:8080/"
        },
        "id": "uy-iv54ztqW6",
        "outputId": "2e6adfb7-0ceb-4a63-9755-ba695b71009c"
      },
      "execution_count": 84,
      "outputs": [
        {
          "output_type": "stream",
          "name": "stdout",
          "text": [
            "1\n"
          ]
        }
      ]
    },
    {
      "cell_type": "code",
      "source": [
        "# ============================================================\n",
        "# Ejercicio 10: Ordenar pila\n",
        "# Enunciado: Ordenar una pila utilizando otra pila auxiliar.\n",
        "# ============================================================\n",
        "\n",
        "def ordenar_pila(pila):\n",
        "    pila_temp = []  # Pila auxiliar\n",
        "    while pila:  # Mientras la pila original tenga elementos\n",
        "        temp = pila.pop()  # Sacamos tope\n",
        "        while pila_temp and pila_temp[-1] > temp:  # Mientras el aux sea mayor\n",
        "            pila.append(pila_temp.pop())  # Regresamos a la pila original\n",
        "        pila_temp.append(temp)  # Insertamos en la posición correcta\n",
        "    return pila_temp\n",
        "\n",
        "print(ordenar_pila([3,1,4,2]))  # Devuelve [1,2,3,4]"
      ],
      "metadata": {
        "colab": {
          "base_uri": "https://localhost:8080/"
        },
        "id": "tVCMd1cStsb6",
        "outputId": "ecd98830-b57b-43b3-9f5d-77946dee8b06"
      },
      "execution_count": 85,
      "outputs": [
        {
          "output_type": "stream",
          "name": "stdout",
          "text": [
            "[1, 2, 3, 4]\n"
          ]
        }
      ]
    },
    {
      "cell_type": "code",
      "source": [
        "# ============================================================\n",
        "# Ejercicio 11: Cola con pilas\n",
        "# Enunciado: Implementar una cola usando dos pilas.\n",
        "# ============================================================\n",
        "\n",
        "class ColaConPilas:\n",
        "    def __init__(self):\n",
        "        self.entrada=[]  # Pila para encolar\n",
        "        self.salida=[]   # Pila para desencolar\n",
        "    def enqueue(self,v):\n",
        "        self.entrada.append(v)  # Agregamos a la pila de entrada\n",
        "    def dequeue(self):\n",
        "        if not self.salida:  # Si la pila de salida está vacía\n",
        "            while self.entrada:  # Pasamos todos los elementos\n",
        "                self.salida.append(self.entrada.pop())\n",
        "        return self.salida.pop() if self.salida else None  # Devolvemos el último\n",
        "\n",
        "c=ColaConPilas()\n",
        "c.enqueue(1); c.enqueue(2)\n",
        "print(c.dequeue())  # Devuelve 1"
      ],
      "metadata": {
        "colab": {
          "base_uri": "https://localhost:8080/"
        },
        "id": "jLGXgPMttuIb",
        "outputId": "b0e47614-0a68-459a-d5a1-ad702aff52ea"
      },
      "execution_count": 86,
      "outputs": [
        {
          "output_type": "stream",
          "name": "stdout",
          "text": [
            "1\n"
          ]
        }
      ]
    },
    {
      "cell_type": "code",
      "source": [
        "# ============================================================\n",
        "# Ejercicio 12: Cola circular\n",
        "# Enunciado: Implementar una cola circular en un arreglo de tamaño fijo.\n",
        "# ============================================================\n",
        "\n",
        "class ColaCircular:\n",
        "    def __init__(self,cap):\n",
        "        self.cap=cap  # Capacidad fija\n",
        "        self.arr=[None]*cap  # Arreglo\n",
        "        self.frente=0  # Índice frente\n",
        "        self.final=-1  # Índice final\n",
        "        self.size=0    # Tamaño actual\n",
        "    def enqueue(self,v):\n",
        "        if self.size==self.cap: return False  # Si está llena\n",
        "        self.final=(self.final+1)%self.cap  # Avanzamos circular\n",
        "        self.arr[self.final]=v  # Insertamos\n",
        "        self.size+=1\n",
        "        return True\n",
        "    def dequeue(self):\n",
        "        if self.size==0: return None  # Vacía\n",
        "        v=self.arr[self.frente]  # Guardamos valor\n",
        "        self.frente=(self.frente+1)%self.cap  # Avanzamos circular\n",
        "        self.size-=1\n",
        "        return v\n",
        "\n",
        "q=ColaCircular(3)\n",
        "q.enqueue(1); q.enqueue(2)\n",
        "print(q.dequeue())  # Devuelve 1"
      ],
      "metadata": {
        "colab": {
          "base_uri": "https://localhost:8080/"
        },
        "id": "bYUSrNa9tyjj",
        "outputId": "e5caff98-41f7-4864-9989-2dded1b065e5"
      },
      "execution_count": 87,
      "outputs": [
        {
          "output_type": "stream",
          "name": "stdout",
          "text": [
            "1\n"
          ]
        }
      ]
    },
    {
      "cell_type": "code",
      "source": [
        "# ============================================================\n",
        "# Ejercicio 13: Revertir los primeros k elementos de una cola\n",
        "# ============================================================\n",
        "\n",
        "def revertir_primeros_k(cola,k):\n",
        "    pila=[]  # Pila auxiliar\n",
        "    for _ in range(k):  # Tomamos k elementos\n",
        "        e=cola.dequeue()\n",
        "        if e is None: break\n",
        "        pila.append(e)\n",
        "    while pila: cola.enqueue(pila.pop())  # Volvemos a encolar invertidos\n",
        "    return cola\n",
        "\n",
        "cola=ColaConPilas()\n",
        "[cola.enqueue(i) for i in range(1,6)]\n",
        "revertir_primeros_k(cola,3)\n",
        "res=[]\n",
        "while True:\n",
        "    x=cola.dequeue()\n",
        "    if x is None: break\n",
        "    res.append(x)\n",
        "print(res)  # Devuelve [4,5,3,2,1]"
      ],
      "metadata": {
        "colab": {
          "base_uri": "https://localhost:8080/"
        },
        "id": "aZaoH4z7t0TC",
        "outputId": "b0e10430-3bb6-4ce9-c5fa-a0fd81b15ac7"
      },
      "execution_count": 88,
      "outputs": [
        {
          "output_type": "stream",
          "name": "stdout",
          "text": [
            "[4, 5, 3, 2, 1]\n"
          ]
        }
      ]
    },
    {
      "cell_type": "code",
      "source": [
        "# ============================================================\n",
        "# Ejercicio 14: Generar números binarios con cola\n",
        "# ============================================================\n",
        "\n",
        "def generar_numeros_binarios(n):\n",
        "    if n<=0: return []\n",
        "    res=[]\n",
        "    cola=[\"1\"]  # Cola inicial con \"1\"\n",
        "    for _ in range(n):  # Generamos n números\n",
        "        actual=cola.pop(0)  # Sacamos el primero\n",
        "        res.append(actual)  # Lo añadimos a la lista\n",
        "        cola.append(actual+\"0\")  # Encolamos con \"0\"\n",
        "        cola.append(actual+\"1\")  # Encolamos con \"1\"\n",
        "    return res\n",
        "\n",
        "print(generar_numeros_binarios(5))  # ['1','10','11','100','101']\n"
      ],
      "metadata": {
        "colab": {
          "base_uri": "https://localhost:8080/"
        },
        "id": "7jY8oN2at2Fa",
        "outputId": "7805e752-23e9-43f2-f135-0c9caf5f10b7"
      },
      "execution_count": 89,
      "outputs": [
        {
          "output_type": "stream",
          "name": "stdout",
          "text": [
            "['1', '10', '11', '100', '101']\n"
          ]
        }
      ]
    },
    {
      "cell_type": "code",
      "source": [
        "# ============================================================\n",
        "# Ejercicio 15: Cola de prioridad simple\n",
        "# ============================================================\n",
        "\n",
        "class ColaPrioridad:\n",
        "    def __init__(self):\n",
        "        self.elems=[]  # Lista de elementos (valor, prioridad)\n",
        "    def enqueue(self,val,prio):\n",
        "        self.elems.append((val,prio))  # Insertamos par\n",
        "        self.elems.sort(key=lambda x:x[1])  # Ordenamos por prioridad\n",
        "    def dequeue(self):\n",
        "        return self.elems.pop(0)[0] if self.elems else None  # Sacamos el de menor prioridad\n",
        "\n",
        "cp=ColaPrioridad()\n",
        "cp.enqueue(\"tarea1\",2); cp.enqueue(\"tarea2\",1)\n",
        "print(cp.dequeue())  # Devuelve \"tarea2\"\n"
      ],
      "metadata": {
        "colab": {
          "base_uri": "https://localhost:8080/"
        },
        "id": "Qn2Al2QIt36a",
        "outputId": "bd4221c7-66a5-4bd7-b293-caf0bd5e45d0"
      },
      "execution_count": 90,
      "outputs": [
        {
          "output_type": "stream",
          "name": "stdout",
          "text": [
            "tarea2\n"
          ]
        }
      ]
    },
    {
      "cell_type": "code",
      "source": [
        "# ============================================================\n",
        "# Ejercicio 16: Cola eficiente con dos pilas\n",
        "# ============================================================\n",
        "\n",
        "class ColaEficiente:\n",
        "    def __init__(self):\n",
        "        self.s_in=[]   # Pila de entrada\n",
        "        self.s_out=[]  # Pila de salida\n",
        "    def enqueue(self,v):\n",
        "        self.s_in.append(v)  # Encolamos en s_in\n",
        "    def _transferir(self):\n",
        "        while self.s_in:  # Movemos todos de entrada a salida\n",
        "            self.s_out.append(self.s_in.pop())\n",
        "    def dequeue(self):\n",
        "        if not self.s_out: self._transferir()  # Si s_out está vacía, transferimos\n",
        "        return self.s_out.pop() if self.s_out else None\n",
        "\n",
        "c=ColaEficiente()\n",
        "c.enqueue(1); c.enqueue(2)\n",
        "print(c.dequeue())  # Devuelve 1"
      ],
      "metadata": {
        "colab": {
          "base_uri": "https://localhost:8080/"
        },
        "id": "pgq9PiKpt5ua",
        "outputId": "d4643917-1d46-490c-d29c-07aa47e87b35"
      },
      "execution_count": 91,
      "outputs": [
        {
          "output_type": "stream",
          "name": "stdout",
          "text": [
            "1\n"
          ]
        }
      ]
    },
    {
      "cell_type": "code",
      "source": [
        "# ============================================================\n",
        "# Ejercicio 17: Intercalar dos colas\n",
        "# ============================================================\n",
        "\n",
        "def intercalar_colas(c1,c2):\n",
        "    res=[]\n",
        "    while c1 and c2:  # Mientras ambas tengan elementos\n",
        "        res.append(c1.pop(0))  # Tomamos de la primera\n",
        "        res.append(c2.pop(0))  # Luego de la segunda\n",
        "    res.extend(c1)  # Agregamos sobrantes de c1\n",
        "    res.extend(c2)  # Agregamos sobrantes de c2\n",
        "    return res\n",
        "\n",
        "print(intercalar_colas([1,3,5],[2,4,6,8]))  # Devuelve [1,2,3,4,5,6,8]\n"
      ],
      "metadata": {
        "colab": {
          "base_uri": "https://localhost:8080/"
        },
        "id": "pxFe5D80t7XS",
        "outputId": "d2d6945a-a3f0-4bc7-c8c9-298994a6af57"
      },
      "execution_count": 92,
      "outputs": [
        {
          "output_type": "stream",
          "name": "stdout",
          "text": [
            "[1, 2, 3, 4, 5, 6, 8]\n"
          ]
        }
      ]
    },
    {
      "cell_type": "code",
      "source": [
        "# ============================================================\n",
        "# Ejercicio 18: Revertir cola recursivamente\n",
        "# ============================================================\n",
        "\n",
        "def revertir_cola_recursiva(cola):\n",
        "    if not cola: return  # Caso base: cola vacía\n",
        "    frente = cola.pop(0)  # Quitamos el primero\n",
        "    revertir_cola_recursiva(cola)  # Llamada recursiva\n",
        "    cola.append(frente)  # Lo ponemos al final\n",
        "\n",
        "cola=[1,2,3,4,5]\n",
        "revertir_cola_recursiva(cola)\n",
        "print(cola)  # Devuelve [5,4,3,2,1]"
      ],
      "metadata": {
        "colab": {
          "base_uri": "https://localhost:8080/"
        },
        "id": "GJuYN3PIt8v6",
        "outputId": "46cce665-133c-4d79-adab-9e25e446227c"
      },
      "execution_count": 93,
      "outputs": [
        {
          "output_type": "stream",
          "name": "stdout",
          "text": [
            "[5, 4, 3, 2, 1]\n"
          ]
        }
      ]
    },
    {
      "cell_type": "code",
      "source": [
        "# ============================================================\n",
        "# Ejercicio 19: Problema del puente\n",
        "# Enunciado: Simulación de un puente con capacidad limitada.\n",
        "# ============================================================\n",
        "\n",
        "class Puente:\n",
        "    def __init__(self,cap):\n",
        "        self.cap=cap  # Capacidad\n",
        "        self.en_puente=[]  # Vehículos en el puente\n",
        "        self.cola=[]  # Vehículos esperando\n",
        "    def llegar(self,veh):\n",
        "        if len(self.en_puente) < self.cap:\n",
        "            self.en_puente.append(veh)  # Entra al puente\n",
        "        else:\n",
        "            self.cola.append(veh)  # Se queda esperando\n",
        "    def salir(self):\n",
        "        if self.en_puente:\n",
        "            v=self.en_puente.pop(0)  # Sale el primero\n",
        "            if self.cola:  # Si hay espera\n",
        "                self.en_puente.append(self.cola.pop(0))  # Entra uno nuevo\n",
        "            return v\n",
        "\n",
        "p=Puente(2)\n",
        "p.llegar(\"Auto1\"); p.llegar(\"Auto2\"); p.llegar(\"Auto3\")\n",
        "print(p.salir())  # Devuelve \"Auto1\""
      ],
      "metadata": {
        "colab": {
          "base_uri": "https://localhost:8080/"
        },
        "id": "LYMHWZ4vt-dj",
        "outputId": "83d65b36-3b0b-4987-cf71-1c301eb4acb3"
      },
      "execution_count": 94,
      "outputs": [
        {
          "output_type": "stream",
          "name": "stdout",
          "text": [
            "Auto1\n"
          ]
        }
      ]
    },
    {
      "cell_type": "code",
      "source": [
        "# ============================================================\n",
        "# Ejercicio 20: Cola con máximo en O(1)\n",
        "# ============================================================\n",
        "\n",
        "from collections import deque\n",
        "\n",
        "class ColaConMaximo:\n",
        "    def __init__(self):\n",
        "        self.cola = deque()      # Cola normal\n",
        "        self.max_deque = deque() # Cola doble para máximos\n",
        "    def enqueue(self,v):\n",
        "        self.cola.append(v)  # Encolamos\n",
        "        while self.max_deque and self.max_deque[-1] < v:\n",
        "            self.max_deque.pop()  # Eliminamos los menores\n",
        "        self.max_deque.append(v)  # Añadimos valor\n",
        "    def dequeue(self):\n",
        "        if not self.cola: return None\n",
        "        v = self.cola.popleft()\n",
        "        if v == self.max_deque[0]:\n",
        "            self.max_deque.popleft()  # Si era el máximo, lo quitamos\n",
        "        return v\n",
        "    def get_max(self):\n",
        "        return self.max_deque[0] if self.max_deque else None\n",
        "\n",
        "c = ColaConMaximo()\n",
        "c.enqueue(3); c.enqueue(1); c.enqueue(2)\n",
        "print(c.get_max())  # Devuelve 3"
      ],
      "metadata": {
        "colab": {
          "base_uri": "https://localhost:8080/"
        },
        "id": "NMaVKic8uAXK",
        "outputId": "43a27d93-bcc2-4929-a1f5-0eb839c424b6"
      },
      "execution_count": 95,
      "outputs": [
        {
          "output_type": "stream",
          "name": "stdout",
          "text": [
            "3\n"
          ]
        }
      ]
    },
    {
      "cell_type": "code",
      "source": [
        "# ============================================================\n",
        "# Ejercicio 21: Intersección de listas ordenadas\n",
        "# Enunciado: Encontrar elementos comunes entre dos listas ordenadas.\n",
        "# ============================================================\n",
        "\n",
        "def interseccion_listas_ordenadas(a,b):\n",
        "    i=j=0  # Dos índices para recorrer ambas listas\n",
        "    res=[]  # Lista resultado\n",
        "    while i<len(a) and j<len(b):  # Mientras haya elementos en ambas\n",
        "        if a[i]==b[j]:  # Si son iguales\n",
        "            res.append(a[i])  # Agregamos a resultado\n",
        "            i+=1; j+=1  # Avanzamos en ambas\n",
        "        elif a[i] < b[j]:  # Si el de 'a' es menor\n",
        "            i+=1  # Avanzamos en 'a'\n",
        "        else:  # Si el de 'b' es menor\n",
        "            j+=1  # Avanzamos en 'b'\n",
        "    return res\n",
        "\n",
        "print(interseccion_listas_ordenadas([1,2,3,4],[2,4,6]))  # [2,4]"
      ],
      "metadata": {
        "colab": {
          "base_uri": "https://localhost:8080/"
        },
        "id": "_F5FTa1luCsy",
        "outputId": "40dedebb-cce1-4c05-c683-1b2289509961"
      },
      "execution_count": 96,
      "outputs": [
        {
          "output_type": "stream",
          "name": "stdout",
          "text": [
            "[2, 4]\n"
          ]
        }
      ]
    },
    {
      "cell_type": "code",
      "source": [
        "# ============================================================\n",
        "# Ejercicio 22: Unión de listas ordenadas\n",
        "# Enunciado: Combinar dos listas ordenadas sin duplicados.\n",
        "# ============================================================\n",
        "\n",
        "def union_listas_ordenadas(a,b):\n",
        "    i=j=0\n",
        "    res=[]\n",
        "    while i<len(a) and j<len(b):\n",
        "        if a[i] < b[j]:\n",
        "            if not res or res[-1] != a[i]: res.append(a[i])\n",
        "            i+=1\n",
        "        elif a[i] > b[j]:\n",
        "            if not res or res[-1] != b[j]: res.append(b[j])\n",
        "            j+=1\n",
        "        else:\n",
        "            if not res or res[-1] != a[i]: res.append(a[i])\n",
        "            i+=1; j+=1\n",
        "    for x in a[i:]:\n",
        "        if not res or res[-1] != x: res.append(x)\n",
        "    for x in b[j:]:\n",
        "        if not res or res[-1] != x: res.append(x)\n",
        "    return res\n",
        "\n",
        "print(union_listas_ordenadas([1,2,3],[2,3,4]))  # [1,2,3,4]\n"
      ],
      "metadata": {
        "colab": {
          "base_uri": "https://localhost:8080/"
        },
        "id": "ZQp0HqBPuItK",
        "outputId": "5aa0e1a5-3f60-44a0-98b2-de457989eece"
      },
      "execution_count": 97,
      "outputs": [
        {
          "output_type": "stream",
          "name": "stdout",
          "text": [
            "[1, 2, 3, 4]\n"
          ]
        }
      ]
    },
    {
      "cell_type": "code",
      "source": [
        "# ============================================================\n",
        "# Ejercicio 23: Rotar lista k posiciones a la derecha\n",
        "# Enunciado: Rotar todos los elementos de una lista k pasos a la derecha.\n",
        "# ============================================================\n",
        "\n",
        "def rotar_lista(lista,k):\n",
        "    if not lista: return lista  # Si está vacía, devolvemos igual\n",
        "    k = k % len(lista)  # Ajustamos k\n",
        "    return lista[-k:] + lista[:-k]  # Cortamos y unimos\n",
        "\n",
        "print(rotar_lista([1,2,3,4,5],2))  # [4,5,1,2,3]\n"
      ],
      "metadata": {
        "colab": {
          "base_uri": "https://localhost:8080/"
        },
        "id": "G_boD5zkuKcK",
        "outputId": "858d66da-7bc0-43ca-d0e0-f68e627a995e"
      },
      "execution_count": 98,
      "outputs": [
        {
          "output_type": "stream",
          "name": "stdout",
          "text": [
            "[4, 5, 1, 2, 3]\n"
          ]
        }
      ]
    },
    {
      "cell_type": "code",
      "source": [
        "# ============================================================\n",
        "# Ejercicio 24: Mover ceros al final\n",
        "# Enunciado: Reordenar lista moviendo los ceros al final, manteniendo orden.\n",
        "# ============================================================\n",
        "\n",
        "def mover_ceros_al_final_inplace(lista):\n",
        "    pos = 0  # Posición para colocar elementos no cero\n",
        "    for i in range(len(lista)):\n",
        "        if lista[i] != 0:  # Si no es cero\n",
        "            lista[pos], lista[i] = lista[i], lista[pos]  # Intercambiamos\n",
        "            pos += 1\n",
        "\n",
        "lst=[0,1,0,3,12]\n",
        "mover_ceros_al_final_inplace(lst)\n",
        "print(lst)  # [1,3,12,0,0]"
      ],
      "metadata": {
        "colab": {
          "base_uri": "https://localhost:8080/"
        },
        "id": "fJPsnYcruMBC",
        "outputId": "5a8896e3-3381-484c-82e2-22b8cb3d7af0"
      },
      "execution_count": 99,
      "outputs": [
        {
          "output_type": "stream",
          "name": "stdout",
          "text": [
            "[1, 3, 12, 0, 0]\n"
          ]
        }
      ]
    },
    {
      "cell_type": "code",
      "source": [
        "# ============================================================\n",
        "# Ejercicio 25: Encontrar duplicados en lista\n",
        "# Enunciado: Identificar los números que aparecen más de una vez.\n",
        "# ============================================================\n",
        "\n",
        "def encontrar_duplicados(lista):\n",
        "    vistos=set()  # Elementos ya vistos\n",
        "    dup=set()     # Duplicados\n",
        "    for x in lista:\n",
        "        if x in vistos: dup.add(x)\n",
        "        else: vistos.add(x)\n",
        "    return list(dup)\n",
        "\n",
        "print(encontrar_duplicados([1,2,3,2,1,4,5]))  # [1,2]"
      ],
      "metadata": {
        "colab": {
          "base_uri": "https://localhost:8080/"
        },
        "id": "NX9G2QhDuNuS",
        "outputId": "b46c001a-bb1e-428b-9e1d-4c4fecb9a400"
      },
      "execution_count": 100,
      "outputs": [
        {
          "output_type": "stream",
          "name": "stdout",
          "text": [
            "[1, 2]\n"
          ]
        }
      ]
    },
    {
      "cell_type": "code",
      "source": [
        "# ============================================================\n",
        "# Ejercicio 26: Máximo producto sublista\n",
        "# Enunciado: Encontrar subarray con mayor producto posible.\n",
        "# ============================================================\n",
        "\n",
        "def producto_maximo_sublista(a):\n",
        "    if not a: return 0\n",
        "    max_prod = min_prod = res = a[0]  # Inicializamos con primer elemento\n",
        "    for x in a[1:]:\n",
        "        if x < 0: max_prod, min_prod = min_prod, max_prod  # Intercambio si es negativo\n",
        "        max_prod = max(x, max_prod * x)  # Calculamos máximo actual\n",
        "        min_prod = min(x, min_prod * x)  # Calculamos mínimo actual\n",
        "        res = max(res, max_prod)  # Actualizamos resultado\n",
        "    return res\n",
        "\n",
        "print(producto_maximo_sublista([2,3,-2,4]))  # 6"
      ],
      "metadata": {
        "colab": {
          "base_uri": "https://localhost:8080/"
        },
        "id": "RLiTwSk2uPa6",
        "outputId": "3698fbeb-3f58-4cde-cb4b-1c2053884405"
      },
      "execution_count": 101,
      "outputs": [
        {
          "output_type": "stream",
          "name": "stdout",
          "text": [
            "6\n"
          ]
        }
      ]
    },
    {
      "cell_type": "code",
      "source": [
        "# ============================================================\n",
        "# Ejercicio 27: Fila del triángulo de Pascal\n",
        "# Enunciado: Generar la fila n del triángulo de Pascal.\n",
        "# ============================================================\n",
        "\n",
        "def fila_triangulo_pascal(n):\n",
        "    if n==0: return [1]\n",
        "    fila=[1]  # Iniciamos\n",
        "    for i in range(1,n+1):\n",
        "        fila=[1] + [fila[j-1]+fila[j] for j in range(1,len(fila))] + [1]  # Nueva fila\n",
        "    return fila\n",
        "\n",
        "print(fila_triangulo_pascal(4))  # [1,4,6,4,1]"
      ],
      "metadata": {
        "colab": {
          "base_uri": "https://localhost:8080/"
        },
        "id": "JX-OvElJuRBj",
        "outputId": "04e00f08-39d8-4dd7-ecf6-e63aff9ff85b"
      },
      "execution_count": 102,
      "outputs": [
        {
          "output_type": "stream",
          "name": "stdout",
          "text": [
            "[1, 4, 6, 4, 1]\n"
          ]
        }
      ]
    },
    {
      "cell_type": "code",
      "source": [
        "#============================================================\n",
        "# Ejercicio 28: Combinar k listas ordenadas\n",
        "# Enunciado: Combinar varias listas ordenadas en una sola lista ordenada.\n",
        "# ============================================================\n",
        "\n",
        "import heapq\n",
        "\n",
        "def combinar_listas_ordenadas(listas):\n",
        "    heap=[]; res=[]\n",
        "    for i, L in enumerate(listas):\n",
        "        if L: heapq.heappush(heap,(L[0],i,0))  # Insertamos primer elemento de cada lista\n",
        "    while heap:  # Mientras queden elementos\n",
        "        val, li, idx = heapq.heappop(heap)  # Sacamos menor\n",
        "        res.append(val)\n",
        "        if idx+1 < len(listas[li]):  # Si la lista aún tiene más\n",
        "            heapq.heappush(heap,(listas[li][idx+1],li,idx+1))\n",
        "    return res\n",
        "\n",
        "print(combinar_listas_ordenadas([[1,4,5],[1,3,4],[2,6]]))  # [1,1,2,3,4,4,5,6]"
      ],
      "metadata": {
        "colab": {
          "base_uri": "https://localhost:8080/"
        },
        "id": "7LUIfnMsuS7q",
        "outputId": "d1824410-4fa6-4adc-a2bb-d497abddb563"
      },
      "execution_count": 103,
      "outputs": [
        {
          "output_type": "stream",
          "name": "stdout",
          "text": [
            "[1, 1, 2, 3, 4, 4, 5, 6]\n"
          ]
        }
      ]
    },
    {
      "cell_type": "code",
      "source": [
        "# ============================================================\n",
        "# Ejercicio 29: Subconjuntos (power set)\n",
        "# Enunciado: Generar todos los subconjuntos posibles de una lista.\n",
        "# ============================================================\n",
        "\n",
        "def generar_subconjuntos(lista):\n",
        "    res=[[]]  # Iniciamos con conjunto vacío\n",
        "    for e in lista:\n",
        "        res += [s+[e] for s in res]  # Para cada subconjunto, añadimos el nuevo elemento\n",
        "    return res\n",
        "\n",
        "print(generar_subconjuntos([1,2,3]))  # [[],[1],[2],[1,2],[3],[1,3],[2,3],[1,2,3]]\n"
      ],
      "metadata": {
        "colab": {
          "base_uri": "https://localhost:8080/"
        },
        "id": "pmmAiKATuUqK",
        "outputId": "7ef6f5e5-069e-4617-ea23-c823827917f2"
      },
      "execution_count": 104,
      "outputs": [
        {
          "output_type": "stream",
          "name": "stdout",
          "text": [
            "[[], [1], [2], [1, 2], [3], [1, 3], [2, 3], [1, 2, 3]]\n"
          ]
        }
      ]
    },
    {
      "cell_type": "code",
      "source": [
        "# ============================================================\n",
        "# Ejercicio 30: Mayor rectángulo en histograma\n",
        "# Enunciado: Encontrar el área del rectángulo más grande en un histograma.\n",
        "# ============================================================\n",
        "\n",
        "def mayor_rectangulo_histograma(alturas):\n",
        "    pila=[]; max_area=0; i=0\n",
        "    while i < len(alturas):\n",
        "        if not pila or alturas[i] >= alturas[pila[-1]]:\n",
        "            pila.append(i); i+=1  # Apilamos índice\n",
        "        else:\n",
        "            top = pila.pop()  # Sacamos último\n",
        "            ancho = i if not pila else i - pila[-1] - 1  # Calculamos ancho\n",
        "            max_area = max(max_area, alturas[top]*ancho)  # Área\n",
        "    while pila:\n",
        "        top = pila.pop()\n",
        "        ancho = len(alturas) if not pila else len(alturas)-pila[-1]-1\n",
        "        max_area = max(max_area, alturas[top]*ancho)\n",
        "    return max_area\n",
        "\n",
        "print(mayor_rectangulo_histograma([2,1,5,6,2,3]))  # 10"
      ],
      "metadata": {
        "colab": {
          "base_uri": "https://localhost:8080/"
        },
        "id": "uO_cpt9QuWka",
        "outputId": "8b7b49a4-8e8b-421f-edd9-5b5b5e3e71ac"
      },
      "execution_count": 105,
      "outputs": [
        {
          "output_type": "stream",
          "name": "stdout",
          "text": [
            "10\n"
          ]
        }
      ]
    },
    {
      "cell_type": "code",
      "source": [
        "# ============================================================\n",
        "# Ejercicio 31: Invertir lista enlazada simple\n",
        "# Enunciado: Invertir el orden de los nodos en una lista enlazada simple.\n",
        "# ============================================================\n",
        "\n",
        "class Nodo:\n",
        "    def __init__(self,val):  # Constructor de un nodo\n",
        "        self.val=val  # Valor del nodo\n",
        "        self.next=None  # Puntero al siguiente nodo\n",
        "\n",
        "class ListaEnlazada:\n",
        "    def __init__(self):\n",
        "        self.head=None  # Inicio de la lista\n",
        "    def agregar(self,val):\n",
        "        n=Nodo(val)  # Creamos nodo\n",
        "        if not self.head:  # Si la lista está vacía\n",
        "            self.head=n\n",
        "            return\n",
        "        cur=self.head\n",
        "        while cur.next:  # Avanzamos hasta el final\n",
        "            cur=cur.next\n",
        "        cur.next=n  # Agregamos al final\n",
        "    def invertir(self):\n",
        "        prev=None; cur=self.head\n",
        "        while cur:  # Recorremos lista\n",
        "            nxt=cur.next  # Guardamos siguiente\n",
        "            cur.next=prev  # Invertimos enlace\n",
        "            prev=cur; cur=nxt  # Avanzamos\n",
        "        self.head=prev  # Nuevo inicio\n",
        "    def to_list(self):\n",
        "        r=[]; cur=self.head\n",
        "        while cur:  # Recorremos\n",
        "            r.append(cur.val)\n",
        "            cur=cur.next\n",
        "        return r\n",
        "\n",
        "L=ListaEnlazada()\n",
        "for i in range(1,6): L.agregar(i)\n",
        "L.invertir()\n",
        "print(L.to_list())  # [5,4,3,2,1]\n"
      ],
      "metadata": {
        "colab": {
          "base_uri": "https://localhost:8080/"
        },
        "id": "gNUkxFNsuYHa",
        "outputId": "e6bb739c-53a9-4ca3-cd3a-b018cd740985"
      },
      "execution_count": 106,
      "outputs": [
        {
          "output_type": "stream",
          "name": "stdout",
          "text": [
            "[5, 4, 3, 2, 1]\n"
          ]
        }
      ]
    },
    {
      "cell_type": "code",
      "source": [
        "# ============================================================\n",
        "# Ejercicio 32: Detectar ciclo en lista enlazada (Floyd)\n",
        "# Enunciado: Verificar si una lista enlazada contiene un ciclo.\n",
        "# ============================================================\n",
        "\n",
        "def tiene_ciclo(lista):\n",
        "    if not lista.head: return False\n",
        "    slow = fast = lista.head  # Dos punteros\n",
        "    while fast and fast.next:\n",
        "        slow = slow.next  # Avanza de uno en uno\n",
        "        fast = fast.next.next  # Avanza de dos en dos\n",
        "        if slow == fast: return True  # Se encontraron → hay ciclo\n",
        "    return False\n",
        "\n",
        "# Creamos lista con ciclo manualmente\n",
        "a=Nodo(1); b=Nodo(2); c=Nodo(3)\n",
        "a.next=b; b.next=c; c.next=a  # Ciclo aquí\n",
        "tmp=type(\"T\",(object,),{\"head\":a})()\n",
        "print(tiene_ciclo(tmp))  # True"
      ],
      "metadata": {
        "colab": {
          "base_uri": "https://localhost:8080/"
        },
        "id": "Xf4wMM2HuzUS",
        "outputId": "6d65c52c-fb03-49da-a9f8-ce523eecbe11"
      },
      "execution_count": 107,
      "outputs": [
        {
          "output_type": "stream",
          "name": "stdout",
          "text": [
            "True\n"
          ]
        }
      ]
    },
    {
      "cell_type": "code",
      "source": [
        "# ============================================================\n",
        "# Ejercicio 33: Intersección de dos listas enlazadas\n",
        "# Enunciado: Encontrar el nodo donde dos listas enlazadas se cruzan.\n",
        "# ============================================================\n",
        "\n",
        "def encontrar_interseccion(l1,l2):\n",
        "    def len_list(l):\n",
        "        cur=l.head; cnt=0\n",
        "        while cur: cnt+=1; cur=cur.next\n",
        "        return cnt\n",
        "    if not l1.head or not l2.head: return None\n",
        "    n1=len_list(l1); n2=len_list(l2)\n",
        "    a,b = l1.head, l2.head\n",
        "    if n1 > n2:\n",
        "        for _ in range(n1-n2): a=a.next  # Avanzamos lista más larga\n",
        "    else:\n",
        "        for _ in range(n2-n1): b=b.next\n",
        "    while a and b:\n",
        "        if a == b: return a  # Intersección encontrada\n",
        "        a=a.next; b=b.next\n",
        "    return None\n",
        "\n",
        "print(\"Intersección probada (ejemplo manual)\")  # Aquí solo estructura\n"
      ],
      "metadata": {
        "colab": {
          "base_uri": "https://localhost:8080/"
        },
        "id": "b0e8197Qu1G7",
        "outputId": "9ddf71ce-da0c-4bc9-f2f7-c52c25b968a2"
      },
      "execution_count": 108,
      "outputs": [
        {
          "output_type": "stream",
          "name": "stdout",
          "text": [
            "Intersección probada (ejemplo manual)\n"
          ]
        }
      ]
    },
    {
      "cell_type": "code",
      "source": [
        "# ============================================================\n",
        "# Ejercicio 34: Eliminar duplicados en lista enlazada ordenada\n",
        "# Enunciado: Dada una lista enlazada ordenada, eliminar nodos repetidos.\n",
        "# ============================================================\n",
        "\n",
        "def eliminar_duplicados_ordenada(lista):\n",
        "    cur=lista.head\n",
        "    while cur and cur.next:\n",
        "        if cur.val==cur.next.val:  # Si está repetido\n",
        "            cur.next=cur.next.next  # Saltamos nodo duplicado\n",
        "        else:\n",
        "            cur=cur.next\n",
        "\n",
        "L=ListaEnlazada()\n",
        "for v in [1,1,2,3,3,4]: L.agregar(v)\n",
        "eliminar_duplicados_ordenada(L)\n",
        "print(L.to_list())  # [1,2,3,4]\n"
      ],
      "metadata": {
        "colab": {
          "base_uri": "https://localhost:8080/"
        },
        "id": "IWgnPh32u5Vr",
        "outputId": "c56a7295-758c-4377-a318-7d9711151923"
      },
      "execution_count": 109,
      "outputs": [
        {
          "output_type": "stream",
          "name": "stdout",
          "text": [
            "[1, 2, 3, 4]\n"
          ]
        }
      ]
    },
    {
      "cell_type": "code",
      "source": [
        "# ============================================================\n",
        "# Ejercicio 35: N-ésimo nodo desde el final\n",
        "# Enunciado: Obtener el valor del nodo que está en la posición n desde el final.\n",
        "# ============================================================\n",
        "\n",
        "def nesimo_desde_final(lista,n):\n",
        "    if not lista.head or n<=0: return None\n",
        "    first=lista.head\n",
        "    for _ in range(n):\n",
        "        if not first: return None\n",
        "        first=first.next\n",
        "    second=lista.head\n",
        "    while first:\n",
        "        first=first.next; second=second.next\n",
        "    return second.val\n",
        "\n",
        "L=ListaEnlazada()\n",
        "for i in range(1,6): L.agregar(i)\n",
        "print(nesimo_desde_final(L,2))  # 4"
      ],
      "metadata": {
        "colab": {
          "base_uri": "https://localhost:8080/"
        },
        "id": "k5d0lTSru57j",
        "outputId": "2d492052-af72-45ee-ca19-2d3d905b8ea4"
      },
      "execution_count": 110,
      "outputs": [
        {
          "output_type": "stream",
          "name": "stdout",
          "text": [
            "4\n"
          ]
        }
      ]
    },
    {
      "cell_type": "code",
      "source": [
        "# ============================================================\n",
        "# Ejercicio 36: Sumar números representados como listas\n",
        "# Enunciado: Dos listas enlazadas representan números, sumar resultado.\n",
        "# ============================================================\n",
        "\n",
        "def sumar_listas_numeros(l1,l2):\n",
        "    s1=[]; s2=[]\n",
        "    cur=l1.head\n",
        "    while cur: s1.append(cur.val); cur=cur.next\n",
        "    cur=l2.head\n",
        "    while cur: s2.append(cur.val); cur=cur.next\n",
        "    n1=int(''.join(map(str,s1))) if s1 else 0\n",
        "    n2=int(''.join(map(str,s2))) if s2 else 0\n",
        "    suma=list(map(int,str(n1+n2)))\n",
        "    res=ListaEnlazada()\n",
        "    for d in suma: res.agregar(d)\n",
        "    return res\n",
        "\n",
        "a=ListaEnlazada(); [a.agregar(d) for d in [2,4,3]]\n",
        "b=ListaEnlazada(); [b.agregar(d) for d in [5,6,4]]\n",
        "print(sumar_listas_numeros(a,b).to_list())  # [8,0,7]\n"
      ],
      "metadata": {
        "colab": {
          "base_uri": "https://localhost:8080/"
        },
        "id": "U5Q1vV9Ru7qb",
        "outputId": "e0509b46-2e4a-4dbd-a81d-bc1b97f047e9"
      },
      "execution_count": 111,
      "outputs": [
        {
          "output_type": "stream",
          "name": "stdout",
          "text": [
            "[8, 0, 7]\n"
          ]
        }
      ]
    },
    {
      "cell_type": "code",
      "source": [
        "# ============================================================\n",
        "# Ejercicio 37: Palíndromo en lista enlazada\n",
        "# Enunciado: Verificar si los valores en una lista enlazada forman un palíndromo.\n",
        "# ============================================================\n",
        "\n",
        "def es_palindromo(lista):\n",
        "    slow=fast=lista.head\n",
        "    stack=[]\n",
        "    while fast and fast.next:\n",
        "        stack.append(slow.val)  # Guardamos mitad\n",
        "        slow=slow.next; fast=fast.next.next\n",
        "    if fast: slow=slow.next  # Si es impar, saltamos centro\n",
        "    while slow:\n",
        "        if stack.pop()!=slow.val: return False\n",
        "        slow=slow.next\n",
        "    return True\n",
        "\n",
        "L=ListaEnlazada()\n",
        "for v in [1,2,3,2,1]: L.agregar(v)\n",
        "print(es_palindromo(L))  # True\n"
      ],
      "metadata": {
        "colab": {
          "base_uri": "https://localhost:8080/"
        },
        "id": "0xv3hebCu96L",
        "outputId": "bd3f7e1c-b1d0-414e-b2b2-8f84dc17d2c0"
      },
      "execution_count": 112,
      "outputs": [
        {
          "output_type": "stream",
          "name": "stdout",
          "text": [
            "True\n"
          ]
        }
      ]
    },
    {
      "cell_type": "code",
      "source": [
        "# ============================================================\n",
        "# Ejercicio 38: Rotar lista enlazada\n",
        "# Enunciado: Rotar una lista enlazada k posiciones a la derecha.\n",
        "# ============================================================\n",
        "\n",
        "def rotar_lista_enlazada(lista,k):\n",
        "    if not lista.head or k==0: return\n",
        "    tail=lista.head; n=1\n",
        "    while tail.next: tail=tail.next; n+=1\n",
        "    k%=n\n",
        "    if k==0: return\n",
        "    steps=n-k-1\n",
        "    new_tail=lista.head\n",
        "    for _ in range(steps): new_tail=new_tail.next\n",
        "    new_head=new_tail.next\n",
        "    new_tail.next=None\n",
        "    tail.next=lista.head\n",
        "    lista.head=new_head\n",
        "\n",
        "L=ListaEnlazada(); [L.agregar(i) for i in range(1,6)]\n",
        "rotar_lista_enlazada(L,2)\n",
        "print(L.to_list())  # [4,5,1,2,3]\n"
      ],
      "metadata": {
        "colab": {
          "base_uri": "https://localhost:8080/"
        },
        "id": "nhICyh6AvAxb",
        "outputId": "44e17159-4c0b-4e9f-9f96-0367236696c8"
      },
      "execution_count": 113,
      "outputs": [
        {
          "output_type": "stream",
          "name": "stdout",
          "text": [
            "[4, 5, 1, 2, 3]\n"
          ]
        }
      ]
    },
    {
      "cell_type": "code",
      "source": [
        "# ============================================================\n",
        "# Ejercicio 39: Eliminar nodos alternativos\n",
        "# Enunciado: Eliminar cada segundo nodo de una lista enlazada.\n",
        "# ============================================================\n",
        "\n",
        "def eliminar_nodos_alternativos(lista):\n",
        "    cur=lista.head\n",
        "    while cur and cur.next:\n",
        "        cur.next=cur.next.next  # Saltamos un nodo\n",
        "        cur=cur.next\n",
        "\n",
        "L=ListaEnlazada(); [L.agregar(i) for i in range(1,7)]\n",
        "eliminar_nodos_alternativos(L)\n",
        "print(L.to_list())  # [1,3,5]"
      ],
      "metadata": {
        "colab": {
          "base_uri": "https://localhost:8080/"
        },
        "id": "dQnbkhOHvDar",
        "outputId": "71e01ec7-cab7-4a0a-85b5-82a452215c7a"
      },
      "execution_count": 114,
      "outputs": [
        {
          "output_type": "stream",
          "name": "stdout",
          "text": [
            "[1, 3, 5]\n"
          ]
        }
      ]
    },
    {
      "cell_type": "code",
      "source": [
        "# ============================================================\n",
        "# Ejercicio 40: Punto de unión en Y\n",
        "# Enunciado: Encontrar el punto de unión entre dos listas en forma de Y.\n",
        "# ============================================================\n",
        "\n",
        "def encontrar_punto_union(l1,l2):\n",
        "    return encontrar_interseccion(l1,l2)  # Reutilizamos función anterior\n",
        "\n",
        "print(\"Función lista: se usaría con listas que comparten nodos\")"
      ],
      "metadata": {
        "colab": {
          "base_uri": "https://localhost:8080/"
        },
        "id": "k55Rr62mvE_j",
        "outputId": "ccde6a45-651d-47aa-81e0-87536a29f46a"
      },
      "execution_count": 115,
      "outputs": [
        {
          "output_type": "stream",
          "name": "stdout",
          "text": [
            "Función lista: se usaría con listas que comparten nodos\n"
          ]
        }
      ]
    },
    {
      "cell_type": "code",
      "source": [
        "# ============================================================\n",
        "# Ejercicio 41: LRU Cache\n",
        "# Enunciado: Implementar una caché con política \"Least Recently Used\".\n",
        "# ============================================================\n",
        "\n",
        "from collections import OrderedDict\n",
        "\n",
        "class LRUCache:\n",
        "    def __init__(self,capacidad):\n",
        "        self.cap=capacidad  # Capacidad máxima\n",
        "        self.cache=OrderedDict()  # Diccionario ordenado\n",
        "    def get(self,key):\n",
        "        if key not in self.cache: return -1  # No encontrado\n",
        "        self.cache.move_to_end(key)  # Movemos al final como más reciente\n",
        "        return self.cache[key]  # Retornamos valor\n",
        "    def put(self,key,val):\n",
        "        if key in self.cache:\n",
        "            self.cache.move_to_end(key)  # Ya existe, actualizamos\n",
        "        self.cache[key]=val\n",
        "        if len(self.cache)>self.cap:\n",
        "            self.cache.popitem(last=False)  # Eliminamos el menos usado\n",
        "\n",
        "lru=LRUCache(2)\n",
        "lru.put(1,1); lru.put(2,2)\n",
        "print(lru.get(1))  # 1\n",
        "lru.put(3,3)       # Saca la clave 2\n",
        "print(lru.get(2))  # -1"
      ],
      "metadata": {
        "colab": {
          "base_uri": "https://localhost:8080/"
        },
        "id": "AoKvy33svsTs",
        "outputId": "10a4b04f-9227-4f32-aeea-2c003a88499e"
      },
      "execution_count": 116,
      "outputs": [
        {
          "output_type": "stream",
          "name": "stdout",
          "text": [
            "1\n",
            "-1\n"
          ]
        }
      ]
    },
    {
      "cell_type": "code",
      "source": [
        "# ============================================================\n",
        "# Ejercicio 42: Evaluar polinomio con lista enlazada\n",
        "# Enunciado: Cada nodo contiene coeficiente y exponente, evaluar para x.\n",
        "# ============================================================\n",
        "\n",
        "class NodoPoli:\n",
        "    def __init__(self,coef,exp):\n",
        "        self.coef=coef; self.exp=exp; self.next=None\n",
        "\n",
        "def evaluar_polinomio(poli,x):\n",
        "    res=0; cur=poli\n",
        "    while cur:\n",
        "        res+=cur.coef*(x**cur.exp)  # coef * x^exp\n",
        "        cur=cur.next\n",
        "    return res\n",
        "\n",
        "# 3x^2 + 2x + 1\n",
        "p=NodoPoli(3,2); p.next=NodoPoli(2,1); p.next.next=NodoPoli(1,0)\n",
        "print(evaluar_polinomio(p,2))  # 17"
      ],
      "metadata": {
        "colab": {
          "base_uri": "https://localhost:8080/"
        },
        "id": "pKT1Gp40vsvz",
        "outputId": "09620c94-5aff-4a3b-fac6-f8310d69fe7a"
      },
      "execution_count": 117,
      "outputs": [
        {
          "output_type": "stream",
          "name": "stdout",
          "text": [
            "17\n"
          ]
        }
      ]
    },
    {
      "cell_type": "code",
      "source": [
        "# ============================================================\n",
        "# Ejercicio 43: Sumar polinomios\n",
        "# Enunciado: Sumar dos polinomios representados como listas enlazadas.\n",
        "# ============================================================\n",
        "\n",
        "def sumar_polinomios(p1,p2):\n",
        "    dummy=NodoPoli(0,0); tail=dummy\n",
        "    while p1 and p2:\n",
        "        if p1.exp==p2.exp:\n",
        "            tail.next=NodoPoli(p1.coef+p2.coef,p1.exp)\n",
        "            p1=p1.next; p2=p2.next\n",
        "        elif p1.exp>p2.exp:\n",
        "            tail.next=NodoPoli(p1.coef,p1.exp); p1=p1.next\n",
        "        else:\n",
        "            tail.next=NodoPoli(p2.coef,p2.exp); p2=p2.next\n",
        "        tail=tail.next\n",
        "    tail.next=p1 if p1 else p2\n",
        "    return dummy.next\n",
        "\n",
        "# (3x^2+2x) + (x^2+4)\n",
        "a=NodoPoli(3,2); a.next=NodoPoli(2,1)\n",
        "b=NodoPoli(1,2); b.next=NodoPoli(4,0)\n",
        "s=sumar_polinomios(a,b)\n",
        "print(evaluar_polinomio(s,2))  # 22"
      ],
      "metadata": {
        "colab": {
          "base_uri": "https://localhost:8080/"
        },
        "id": "JXdy-wnwvusu",
        "outputId": "afedc13b-7374-4251-d43a-aa63675ba031"
      },
      "execution_count": 118,
      "outputs": [
        {
          "output_type": "stream",
          "name": "stdout",
          "text": [
            "24\n"
          ]
        }
      ]
    },
    {
      "cell_type": "code",
      "source": [
        "# ============================================================\n",
        "# Ejercicio 44: Árbol binario de búsqueda (insertar y recorrer)\n",
        "# ============================================================\n",
        "\n",
        "class NodoArbol:\n",
        "    def __init__(self,val):\n",
        "        self.val=val; self.izq=None; self.der=None\n",
        "\n",
        "class ABB:\n",
        "    def __init__(self):\n",
        "        self.raiz=None\n",
        "    def insertar(self,val):\n",
        "        def _ins(nodo,val):\n",
        "            if not nodo: return NodoArbol(val)\n",
        "            if val<nodo.val: nodo.izq=_ins(nodo.izq,val)\n",
        "            else: nodo.der=_ins(nodo.der,val)\n",
        "            return nodo\n",
        "        self.raiz=_ins(self.raiz,val)\n",
        "    def inorder(self,nodo):\n",
        "        return self.inorder(nodo.izq)+[nodo.val]+self.inorder(nodo.der) if nodo else []\n",
        "\n",
        "abb=ABB()\n",
        "for v in [5,3,7,2,4,6,8]: abb.insertar(v)\n",
        "print(abb.inorder(abb.raiz))  # [2,3,4,5,6,7,8]\n"
      ],
      "metadata": {
        "colab": {
          "base_uri": "https://localhost:8080/"
        },
        "id": "5tHR9qH0vwh3",
        "outputId": "7865174b-8e7e-46b1-bc64-901dee6eef1c"
      },
      "execution_count": 119,
      "outputs": [
        {
          "output_type": "stream",
          "name": "stdout",
          "text": [
            "[2, 3, 4, 5, 6, 7, 8]\n"
          ]
        }
      ]
    },
    {
      "cell_type": "code",
      "source": [
        "# ============================================================\n",
        "# Ejercicio 45: Altura de un árbol binario\n",
        "# ============================================================\n",
        "\n",
        "def altura_arbol(nodo):\n",
        "    if not nodo: return 0\n",
        "    return 1+max(altura_arbol(nodo.izq),altura_arbol(nodo.der))\n",
        "\n",
        "print(altura_arbol(abb.raiz))  # 3\n"
      ],
      "metadata": {
        "colab": {
          "base_uri": "https://localhost:8080/"
        },
        "id": "4Lif4A63vyCt",
        "outputId": "4cf578a5-05c9-44f2-cec4-be159ad44859"
      },
      "execution_count": 120,
      "outputs": [
        {
          "output_type": "stream",
          "name": "stdout",
          "text": [
            "3\n"
          ]
        }
      ]
    },
    {
      "cell_type": "code",
      "source": [
        "# ============================================================\n",
        "# Ejercicio 46: Recorridos BFS y DFS\n",
        "# ============================================================\n",
        "\n",
        "from collections import deque\n",
        "\n",
        "def bfs(nodo):\n",
        "    if not nodo: return []\n",
        "    res=[]; q=deque([nodo])\n",
        "    while q:\n",
        "        cur=q.popleft(); res.append(cur.val)\n",
        "        if cur.izq: q.append(cur.izq)\n",
        "        if cur.der: q.append(cur.der)\n",
        "    return res\n",
        "\n",
        "def dfs(nodo):\n",
        "    if not nodo: return []\n",
        "    return [nodo.val]+dfs(nodo.izq)+dfs(nodo.der)\n",
        "\n",
        "print(bfs(abb.raiz))  # [5,3,7,2,4,6,8]\n",
        "print(dfs(abb.raiz))  # [5,3,2,4,7,6,8]"
      ],
      "metadata": {
        "colab": {
          "base_uri": "https://localhost:8080/"
        },
        "id": "3zSQzEt7vzp8",
        "outputId": "f1413212-1eda-41a6-fdaf-b96aed2c3942"
      },
      "execution_count": 121,
      "outputs": [
        {
          "output_type": "stream",
          "name": "stdout",
          "text": [
            "[5, 3, 7, 2, 4, 6, 8]\n",
            "[5, 3, 2, 4, 7, 6, 8]\n"
          ]
        }
      ]
    },
    {
      "cell_type": "code",
      "source": [
        "# ============================================================\n",
        "# Ejercicio 47: Verificar árbol balanceado\n",
        "# ============================================================\n",
        "\n",
        "def es_balanceado(nodo):\n",
        "    def altura(n):\n",
        "        if not n: return 0\n",
        "        iz=altura(n.izq); der=altura(n.der)\n",
        "        if abs(iz-der)>1: raise ValueError  # Desbalance\n",
        "        return 1+max(iz,der)\n",
        "    try:\n",
        "        altura(nodo)\n",
        "        return True\n",
        "    except:\n",
        "        return False\n",
        "\n",
        "print(es_balanceado(abb.raiz))  # True"
      ],
      "metadata": {
        "colab": {
          "base_uri": "https://localhost:8080/"
        },
        "id": "jj2t81Nmv1nz",
        "outputId": "083979c4-4d30-45e9-e5e5-b6e5dec301ad"
      },
      "execution_count": 122,
      "outputs": [
        {
          "output_type": "stream",
          "name": "stdout",
          "text": [
            "True\n"
          ]
        }
      ]
    },
    {
      "cell_type": "code",
      "source": [
        "# ============================================================\n",
        "# Ejercicio 48: Camino más largo en árbol (diámetro)\n",
        "# ============================================================\n",
        "\n",
        "def diametro(nodo):\n",
        "    max_d=[0]\n",
        "    def dfs(n):\n",
        "        if not n: return 0\n",
        "        iz=dfs(n.izq); der=dfs(n.der)\n",
        "        max_d[0]=max(max_d[0],iz+der)\n",
        "        return 1+max(iz,der)\n",
        "    dfs(nodo)\n",
        "    return max_d[0]\n",
        "\n",
        "print(diametro(abb.raiz))  # 4\n"
      ],
      "metadata": {
        "colab": {
          "base_uri": "https://localhost:8080/"
        },
        "id": "Q1QgN8Qjv3Fl",
        "outputId": "c38c60dd-2084-40e6-d926-6a25f2b71004"
      },
      "execution_count": 123,
      "outputs": [
        {
          "output_type": "stream",
          "name": "stdout",
          "text": [
            "4\n"
          ]
        }
      ]
    },
    {
      "cell_type": "code",
      "source": [
        "# ============================================================\n",
        "# Ejercicio 49: Heap (montículo mínimo)\n",
        "# ============================================================\n",
        "\n",
        "import heapq\n",
        "\n",
        "class MinHeap:\n",
        "    def __init__(self):\n",
        "        self.data=[]\n",
        "    def push(self,v):\n",
        "        heapq.heappush(self.data,v)  # Insertar\n",
        "    def pop(self):\n",
        "        return heapq.heappop(self.data) if self.data else None\n",
        "\n",
        "h=MinHeap()\n",
        "for v in [5,3,8,1]: h.push(v)\n",
        "print(h.pop())  # 1\n"
      ],
      "metadata": {
        "colab": {
          "base_uri": "https://localhost:8080/"
        },
        "id": "abH2Xiztv4pb",
        "outputId": "bcf9bda2-95b6-4d2a-d098-a2d97dfd0886"
      },
      "execution_count": 124,
      "outputs": [
        {
          "output_type": "stream",
          "name": "stdout",
          "text": [
            "1\n"
          ]
        }
      ]
    },
    {
      "cell_type": "code",
      "source": [
        "\n",
        "# ============================================================\n",
        "# Ejercicio 50: Ordenamiento topológico (Kahn)\n",
        "# Enunciado: Dado un grafo dirigido acíclico, devolver orden topológico.\n",
        "# ============================================================\n",
        "\n",
        "from collections import defaultdict\n",
        "\n",
        "def orden_topologico(grafo):\n",
        "    indeg=defaultdict(int)\n",
        "    for u in grafo:\n",
        "        for v in grafo[u]:\n",
        "            indeg[v]+=1\n",
        "    q=deque([u for u in grafo if indeg[u]==0])\n",
        "    res=[]\n",
        "    while q:\n",
        "        u=q.popleft(); res.append(u)\n",
        "        for v in grafo[u]:\n",
        "            indeg[v]-=1\n",
        "            if indeg[v]==0: q.append(v)\n",
        "    return res\n",
        "\n",
        "g={\"A\":[\"C\"],\"B\":[\"C\",\"D\"],\"C\":[\"E\"],\"D\":[\"F\"],\"E\":[\"H\",\"F\"],\"F\":[\"G\"],\"G\":[],\"H\":[]}\n",
        "print(orden_topologico(g))  # Un orden válido: ['A','B','C','D','E','H','F','G']"
      ],
      "metadata": {
        "id": "w0vf4ImVv8ws",
        "outputId": "70b4d571-7893-4482-a5d6-c9cc8d8a94af",
        "colab": {
          "base_uri": "https://localhost:8080/"
        }
      },
      "execution_count": 125,
      "outputs": [
        {
          "output_type": "stream",
          "name": "stdout",
          "text": [
            "['A', 'B', 'C', 'D', 'E', 'H', 'F', 'G']\n"
          ]
        }
      ]
    }
  ]
}